{
 "cells": [
  {
   "cell_type": "markdown",
   "id": "87f60f33-d1e4-4d73-9e90-24375eadda9d",
   "metadata": {},
   "source": [
    "# Parallel agents in multi-agent workflows"
   ]
  },
  {
   "cell_type": "code",
   "execution_count": 1,
   "id": "a7fc7056-7bf0-4230-a5a8-252cd1a15969",
   "metadata": {},
   "outputs": [],
   "source": [
    "import operator\n",
    "from typing import Annotated\n",
    "from typing_extensions import TypedDict\n",
    "\n",
    "\n",
    "class State(TypedDict):\n",
    "    report_url: str\n",
    "    financial_metrics: dict\n",
    "    sentiment_analysis: str\n",
    "    final_decision_report: str\n",
    "    aggregate: Annotated[list, operator.add]"
   ]
  },
  {
   "cell_type": "code",
   "execution_count": 2,
   "id": "15ae37a5-387c-4cdb-923d-4a5b07ed5b8d",
   "metadata": {},
   "outputs": [],
   "source": [
    "import time\n",
    "\n",
    "def financial_metrics_extractor(state: State):\n",
    "    print(\"financial_metrics_extractor agent called\")\n",
    "    report_url = state[\"report_url\"]\n",
    "    \n",
    "    # Process report url to extract key financial metrics\n",
    "    \n",
    "    extracted_metrics = {\"revenue\": 10, \"EPS\": 2}\n",
    "    return {\"financial_metrics\": extracted_metrics, \"aggregate\": [extracted_metrics]}\n",
    "\n",
    "def sentiment_analyzer(state: State):\n",
    "    print(\"sentiment_analyzer agent called\")\n",
    "    report_url = state[\"report_url\"]\n",
    "\n",
    "    time.sleep(3)\n",
    "    \n",
    "    # Process report url to perform sentiment analysis\n",
    "\n",
    "    sentiment_analysis = \"Line 3 is positive Line 45 is very negative\"\n",
    "    return {\"sentiment_analysis\": sentiment_analysis, \"aggregate\": [sentiment_analysis]}\n",
    "\n",
    "def final_report_generator(state: State):\n",
    "    print(\"final_report_generator agent called\")\n",
    "    financial_metrics = state[\"financial_metrics\"]\n",
    "    sentiment_analysis = state[\"sentiment_analysis\"]\n",
    "    \n",
    "    # Use the 2 inputs to come up with the final report\n",
    "    \n",
    "    final_decision_report = \"Crazy report for you to make decision\"\n",
    "    return {\"final_decision_report\": final_decision_report, \"aggregate\": [final_decision_report]}"
   ]
  },
  {
   "cell_type": "code",
   "execution_count": 3,
   "id": "143c2d09-f8d3-4ef9-b6f7-ac12f17d0685",
   "metadata": {},
   "outputs": [],
   "source": [
    "from langgraph.graph import START, END, StateGraph\n",
    "\n",
    "graph_builder = StateGraph(State)\n",
    "\n",
    "graph_builder.add_node(\"mtrc_ext\", financial_metrics_extractor)\n",
    "graph_builder.add_node(\"snt_ext\", sentiment_analyzer)\n",
    "graph_builder.add_node(\"fnl_rprt\", final_report_generator)\n",
    "\n",
    "graph_builder.add_edge(START, \"mtrc_ext\")\n",
    "graph_builder.add_edge(START, \"snt_ext\")\n",
    "graph_builder.add_edge(\"mtrc_ext\", \"fnl_rprt\")\n",
    "graph_builder.add_edge(\"snt_ext\", \"fnl_rprt\")\n",
    "graph_builder.add_edge(\"fnl_rprt\", END)\n",
    "\n",
    "graph = graph_builder.compile()"
   ]
  },
  {
   "cell_type": "code",
   "execution_count": 11,
   "id": "4c1c538c",
   "metadata": {},
   "outputs": [],
   "source": [
    "from IPython.display import Image"
   ]
  },
  {
   "cell_type": "code",
   "execution_count": null,
   "id": "0e2735f2",
   "metadata": {},
   "outputs": [
    {
     "name": "stdout",
     "output_type": "stream",
     "text": [
      "           +-----------+            \n",
      "           | __start__ |            \n",
      "           +-----------+            \n",
      "           **         ***           \n",
      "         **              *          \n",
      "        *                 **        \n",
      "+----------+           +---------+  \n",
      "| mtrc_ext |           | snt_ext |  \n",
      "+----------+           +---------+  \n",
      "           **         ***           \n",
      "             **      *              \n",
      "               *   **               \n",
      "           +----------+             \n",
      "           | fnl_rprt |             \n",
      "           +----------+             \n",
      "                 *                  \n",
      "                 *                  \n",
      "                 *                  \n",
      "            +---------+             \n",
      "            | __end__ |             \n",
      "            +---------+             \n"
     ]
    },
    {
     "ename": "",
     "evalue": "",
     "output_type": "error",
     "traceback": [
      "\u001b[1;31mThe Kernel crashed while executing code in the current cell or a previous cell. \n",
      "\u001b[1;31mPlease review the code in the cell(s) to identify a possible cause of the failure. \n",
      "\u001b[1;31mClick <a href='https://aka.ms/vscodeJupyterKernelCrash'>here</a> for more info. \n",
      "\u001b[1;31mView Jupyter <a href='command:jupyter.viewOutput'>log</a> for further details."
     ]
    }
   ],
   "source": [
    "print(graph.get_graph().draw_ascii())"
   ]
  },
  {
   "cell_type": "code",
   "execution_count": 7,
   "id": "ba3c30bb-1d2b-4f9c-8b34-af4401d89447",
   "metadata": {},
   "outputs": [
    {
     "name": "stdout",
     "output_type": "stream",
     "text": [
      "financial_metrics_extractor agent called\n",
      "sentiment_analyzer agent called\n",
      "final_report_generator agent called\n"
     ]
    },
    {
     "data": {
      "text/plain": [
       "{'report_url': 'test.com',\n",
       " 'financial_metrics': {'revenue': 10, 'EPS': 2},\n",
       " 'sentiment_analysis': 'Line 3 is positive Line 45 is very negative',\n",
       " 'final_decision_report': 'Crazy report for you to make decision',\n",
       " 'aggregate': [{'revenue': 10, 'EPS': 2},\n",
       "  'Line 3 is positive Line 45 is very negative',\n",
       "  'Crazy report for you to make decision']}"
      ]
     },
     "execution_count": 7,
     "metadata": {},
     "output_type": "execute_result"
    }
   ],
   "source": [
    "result = graph.invoke({\"report_url\": \"test.com\"})\n",
    "result"
   ]
  },
  {
   "cell_type": "code",
   "execution_count": null,
   "id": "a79a390c-1e78-4d15-8913-094782af8fe5",
   "metadata": {},
   "outputs": [],
   "source": []
  },
  {
   "cell_type": "code",
   "execution_count": 16,
   "id": "bf525fe6-6bdd-4892-a0a7-f7884a234d8f",
   "metadata": {},
   "outputs": [],
   "source": [
    "class State(TypedDict):\n",
    "    report_url: str\n",
    "    financial_metrics: dict\n",
    "    sentiment_analysis: str\n",
    "    intermediate_sentiment_report: str\n",
    "    final_decision_report: str\n",
    "    aggregate: Annotated[list, operator.add]"
   ]
  },
  {
   "cell_type": "code",
   "execution_count": 17,
   "id": "db44a3c0-108e-4f9f-ad2f-6b71299a34d5",
   "metadata": {},
   "outputs": [],
   "source": [
    "import time\n",
    "\n",
    "def financial_metrics_extractor(state: State):\n",
    "    report_url = state[\"report_url\"]\n",
    "    \n",
    "    # Process report url to extract key financial metrics\n",
    "    \n",
    "    extracted_metrics = {\"revenue\": 10, \"EPS\": 2}\n",
    "    return {\"financial_metrics\": extracted_metrics, \"aggregate\": [extracted_metrics]}\n",
    "\n",
    "def sentiment_analyzer(state: State):\n",
    "    report_url = state[\"report_url\"]\n",
    "    \n",
    "    # Process report url to perform sentiment analysis\n",
    "    \n",
    "    sentiment_analysis = \"Line 3 is positive Line 45 is very negative\"\n",
    "    return {\"sentiment_analysis\": sentiment_analysis, \"aggregate\": [sentiment_analysis]}\n",
    "\n",
    "def sentiment_report_generator(state: State):\n",
    "    sentiment_analysis = state[\"sentiment_analysis\"]\n",
    "    \n",
    "    # Process sentiment analysis to generate an intermediate senitment based report\n",
    "    \n",
    "    intermediate_sentiment_report = \"Buy because following positives, sell because following negatives\"\n",
    "    return {\"intermediate_sentiment_report\": intermediate_sentiment_report, \"aggregate\": [intermediate_sentiment_report]}\n",
    "\n",
    "def final_report_generator(state: State):\n",
    "    financial_metrics = state[\"financial_metrics\"]\n",
    "    intermediate_sentiment_report = state[\"intermediate_sentiment_report\"]\n",
    "    \n",
    "    # Use the 2 inputs to come up with the final report\n",
    "    \n",
    "    final_decision_report = \"Crazy report for you to make decision\"\n",
    "    return {\"final_decision_report\": final_decision_report, \"aggregate\": [final_decision_report]}"
   ]
  },
  {
   "cell_type": "code",
   "execution_count": 21,
   "id": "3da542b2-c23e-440d-8255-33784bf9c757",
   "metadata": {},
   "outputs": [],
   "source": [
    "from langgraph.graph import START, END, StateGraph\n",
    "\n",
    "graph_builder = StateGraph(State)\n",
    "\n",
    "graph_builder.add_node(\"mtrc_ext\", financial_metrics_extractor)\n",
    "graph_builder.add_node(\"snt_ext\", sentiment_analyzer)\n",
    "graph_builder.add_node(\"snt_rprt\", sentiment_report_generator)\n",
    "graph_builder.add_node(\"fnl_rprt\", final_report_generator)\n",
    "\n",
    "graph_builder.add_edge(START, \"mtrc_ext\")\n",
    "graph_builder.add_edge(START, \"snt_ext\")\n",
    "graph_builder.add_edge(\"snt_ext\", \"snt_rprt\")\n",
    "graph_builder.add_edge([\"mtrc_ext\", \"snt_rprt\"], \"fnl_rprt\")\n",
    "graph_builder.add_edge(\"fnl_rprt\", END)\n",
    "\n",
    "graph = graph_builder.compile()"
   ]
  },
  {
   "cell_type": "code",
   "execution_count": 22,
   "id": "8c08aef4-ab50-4680-b5bb-1096be490322",
   "metadata": {},
   "outputs": [
    {
     "data": {
      "image/png": "[encoded data removed]",
      "text/plain": [
       "<langgraph.graph.state.CompiledStateGraph object at 0x12049cb90>"
      ]
     },
     "execution_count": 22,
     "metadata": {},
     "output_type": "execute_result"
    }
   ],
   "source": [
    "graph"
   ]
  },
  {
   "cell_type": "code",
   "execution_count": 23,
   "id": "476be115-a131-473b-91fd-9d318d3112c4",
   "metadata": {},
   "outputs": [
    {
     "data": {
      "text/plain": [
       "{'report_url': 'test.com',\n",
       " 'financial_metrics': {'revenue': 10, 'EPS': 2},\n",
       " 'sentiment_analysis': 'Line 3 is positive Line 45 is very negative',\n",
       " 'intermediate_sentiment_report': 'Buy because following positives, sell because following negatives',\n",
       " 'final_decision_report': 'Crazy report for you to make decision',\n",
       " 'aggregate': [{'revenue': 10, 'EPS': 2},\n",
       "  'Line 3 is positive Line 45 is very negative',\n",
       "  'Buy because following positives, sell because following negatives',\n",
       "  'Crazy report for you to make decision']}"
      ]
     },
     "execution_count": 23,
     "metadata": {},
     "output_type": "execute_result"
    }
   ],
   "source": [
    "result = graph.invoke({\"report_url\": \"test.com\"})\n",
    "result"
   ]
  },
  {
   "cell_type": "code",
   "execution_count": null,
   "id": "b2449937-1a1a-491a-9b2c-2299f23f7519",
   "metadata": {},
   "outputs": [],
   "source": []
  }
 ],
 "metadata": {
  "kernelspec": {
   "display_name": "venv",
   "language": "python",
   "name": "python3"
  },
  "language_info": {
   "codemirror_mode": {
    "name": "ipython",
    "version": 3
   },
   "file_extension": ".py",
   "mimetype": "text/x-python",
   "name": "python",
   "nbconvert_exporter": "python",
   "pygments_lexer": "ipython3",
   "version": "3.12.7"
  }
 },
 "nbformat": 4,
 "nbformat_minor": 5
}
